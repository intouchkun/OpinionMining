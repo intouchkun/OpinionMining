{
 "cells": [
  {
   "cell_type": "code",
   "execution_count": 2,
   "metadata": {
    "collapsed": false
   },
   "outputs": [],
   "source": [
    "import tweepy\n",
    "from tweepy import OAuthHandler\n",
    "import re\n",
    "from nltk.corpus import sentiwordnet as swn\n",
    "\n",
    "\n",
    "consumer_key = 'KEY'\n",
    "consumer_secret = 'KEY'\n",
    "access_token = 'KEY-KEY'\n",
    "access_secret = 'KEY'\n",
    "\n",
    "auth = OAuthHandler(consumer_key, consumer_secret)\n",
    "auth.set_access_token(access_token, access_secret)\n",
    " \n",
    "api = tweepy.API(auth)\n"
   ]
  },
  {
   "cell_type": "code",
   "execution_count": 3,
   "metadata": {
    "collapsed": false
   },
   "outputs": [
    {
     "data": {
      "text/plain": [
       "'\\ndef process_or_store(tweet):\\n    print(json.dumps(tweet))\\n\\nA=[]\\nfor status in tweepy.Cursor(api.home_timeline).items(10):\\n    #process_or_store(status._json) \\n    A.append(status.text)\\n    print status.text\\nprint A\\nprint A[0]\\n'"
      ]
     },
     "execution_count": 3,
     "metadata": {},
     "output_type": "execute_result"
    }
   ],
   "source": [
    "'''\n",
    "def process_or_store(tweet):\n",
    "    print(json.dumps(tweet))\n",
    "\n",
    "A=[]\n",
    "for status in tweepy.Cursor(api.home_timeline).items(10):\n",
    "    #process_or_store(status._json) \n",
    "    A.append(status.text)\n",
    "    print status.text\n",
    "print A\n",
    "print A[0]\n",
    "'''"
   ]
  },
  {
   "cell_type": "code",
   "execution_count": 11,
   "metadata": {
    "collapsed": false
   },
   "outputs": [
    {
     "name": "stdout",
     "output_type": "stream",
     "text": [
      "the first thing i did after updating my iphone was deleting the default apple apps. so liberating!! 😂😂  #ios10 #iphone7 #iwish\n",
      "the first thing i did after updating my iphone was deleting the default apple apps. so liberating iphone7 \n",
      "-------------------\n",
      "the galaxy #note7 is on fire and blowing the competition , the problem is that #iphone7 cant hear it coming without its headphone jack\n",
      "the galaxy is on fire and blowing the competition , the problem is that iphone7 cant hear it coming without its headphone jack\n",
      "-------------------\n",
      "rt @project_stanton: yah! the #dev team got our #iphone7 test hardware in today! ip67 is great for industry! #iiot #iot #industry\n",
      "yah the team got our iphone7 test hardware in today ip67 is great for industry \n",
      "-------------------\n",
      "@mattwallis81 @l3sedwin the #note7 is blowing🔥the competition #iphone7 just cant hear it without its headphone jack.still worth investing on\n",
      "the is blowing the competition iphone7 just cant hear it without its headphone jack.still worth investing on\n",
      "-------------------\n",
      "rt @siiii0: i want to be @unshackled from the networks who are committing daylight robbery and with their overcharged prices!! #iphone7\n",
      "i want to be from the networks who are committing daylight robbery and with their overcharged prices iphone7\n",
      "-------------------\n",
      "@ee yesterday you were happy to take my money for an #iphone7 and tell me it could b a couple of days today you tell me it could be 28 days+\n",
      "yesterday you were happy to take my money for an iphone7 and tell me it could b a couple of days today you tell me it could be 28 days\n",
      "-------------------\n",
      "my iphone 📱 7 plus has finally shipped #iphone7\n",
      "my iphone 7 plus has finally shipped iphone7\n",
      "-------------------\n"
     ]
    }
   ],
   "source": [
    "All_tweet=[]\n",
    "highpoints = re.compile(u'[\\uD800-\\uDBFF][\\uDC00-\\uDFFF]')\n",
    "for data in tweepy.Cursor(api.search,q='#iphone7',lang='en').items(100):\n",
    "    tweet = data.text.lower()\n",
    "    if('http' not in tweet):\n",
    "        print tweet\n",
    "        tweet=re.sub(r'#iphone7',\"iphone7\",tweet)\n",
    "        tweet=re.sub(r'[/<>;:!$%^&*(){}_+=\\\\-]|(\\brt\\b)|(@[a-z0-9_!]+)|:|#[\\w.]+',\"\",tweet)\n",
    "        tweet = highpoints.sub(' ', tweet)\n",
    "        tweet=re.sub(r'(^ +)',\"\",tweet)\n",
    "        tweet=re.sub(r'(  +)',\" \",tweet)\n",
    "        print tweet\n",
    "        #All_tweet.append(tweet)\n",
    "        print \"-------------------\""
   ]
  },
  {
   "cell_type": "code",
   "execution_count": null,
   "metadata": {
    "collapsed": false
   },
   "outputs": [],
   "source": []
  },
  {
   "cell_type": "code",
   "execution_count": null,
   "metadata": {
    "collapsed": true
   },
   "outputs": [],
   "source": []
  }
 ],
 "metadata": {
  "kernelspec": {
   "display_name": "Python 2",
   "language": "python",
   "name": "python2"
  },
  "language_info": {
   "codemirror_mode": {
    "name": "ipython",
    "version": 2
   },
   "file_extension": ".py",
   "mimetype": "text/x-python",
   "name": "python",
   "nbconvert_exporter": "python",
   "pygments_lexer": "ipython2",
   "version": "2.7.10"
  }
 },
 "nbformat": 4,
 "nbformat_minor": 0
}
