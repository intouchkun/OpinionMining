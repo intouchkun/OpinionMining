{
 "cells": [
  {
   "cell_type": "code",
   "execution_count": 2,
   "metadata": {
    "collapsed": false
   },
   "outputs": [],
   "source": [
    "import tweepy\n",
    "from tweepy import OAuthHandler\n",
    "import re\n",
    "\n",
    "\n",
    "\n",
    "consumer_key = 'KEY'\n",
    "consumer_secret = 'KEY'\n",
    "access_token = 'KEY'\n",
    "access_secret = 'KEY'\n",
    "\n",
    "auth = OAuthHandler(consumer_key, consumer_secret)\n",
    "auth.set_access_token(access_token, access_secret)\n",
    " \n",
    "api = tweepy.API(auth)\n"
   ]
  },
  {
   "cell_type": "code",
   "execution_count": 1,
   "metadata": {
    "collapsed": false
   },
   "outputs": [
    {
     "data": {
      "text/plain": [
       "'\\ndef process_or_store(tweet):\\n    print(json.dumps(tweet))\\n\\nA=[]\\nfor status in tweepy.Cursor(api.home_timeline).items(10):\\n    #process_or_store(status._json) \\n    A.append(status.text)\\n    print status.text\\nprint A\\nprint A[0]\\n'"
      ]
     },
     "execution_count": 1,
     "metadata": {},
     "output_type": "execute_result"
    }
   ],
   "source": [
    "'''\n",
    "def process_or_store(tweet):\n",
    "    print(json.dumps(tweet))\n",
    "\n",
    "A=[]\n",
    "for status in tweepy.Cursor(api.home_timeline).items(10):\n",
    "    #process_or_store(status._json) \n",
    "    A.append(status.text)\n",
    "    print status.text\n",
    "print A\n",
    "print A[0]\n",
    "'''"
   ]
  },
  {
   "cell_type": "code",
   "execution_count": 13,
   "metadata": {
    "collapsed": false
   },
   "outputs": [
    {
     "name": "stdout",
     "output_type": "stream",
     "text": [
      "my 5 year old earbuds go out 3 days before i receive my new phone. #iphone7 #imready #nojacknoproblem\n",
      "my 5 year old earbuds go out 3 days before i receive my new phone. #iphone7 #imready #nojacknoproblem\n",
      "-------------------\n",
      "@mengto any plans to add #iphone7 to angle ?\n",
      "any plans to add #iphone7 to angle ?\n",
      "-------------------\n",
      "can't wait until i own an iphone 7😍💜 #iphone7 #wantone #apple #128gb #loveit\n",
      "can't wait until i own an iphone 7 #iphone7 #wantone #apple #128gb #loveit\n",
      "-------------------\n"
     ]
    }
   ],
   "source": [
    "All_tweet=[]\n",
    "highpoints = re.compile(u'[\\uD800-\\uDBFF][\\uDC00-\\uDFFF]')\n",
    "for data in tweepy.Cursor(api.search,q='#iphone7',lang='en').items(100):\n",
    "    tweet = data.text.lower()\n",
    "    if('http' not in tweet):\n",
    "        print tweet\n",
    "        tweet=re.sub(r'[\";-]|(\\brt\\b)|(@[a-z0-9_!]+)|:',\"\",tweet)\n",
    "        tweet = highpoints.sub(' ', tweet)\n",
    "        tweet=re.sub(r'(^ +)',\"\",tweet)\n",
    "        tweet=re.sub(r'(  +)',\" \",tweet)\n",
    "        print tweet\n",
    "        #All_tweet.append(tweet)\n",
    "        print \"-------------------\""
   ]
  },
  {
   "cell_type": "code",
   "execution_count": null,
   "metadata": {
    "collapsed": false
   },
   "outputs": [],
   "source": []
  },
  {
   "cell_type": "code",
   "execution_count": null,
   "metadata": {
    "collapsed": true
   },
   "outputs": [],
   "source": []
  }
 ],
 "metadata": {
  "kernelspec": {
   "display_name": "Python 2",
   "language": "python",
   "name": "python2"
  },
  "language_info": {
   "codemirror_mode": {
    "name": "ipython",
    "version": 2
   },
   "file_extension": ".py",
   "mimetype": "text/x-python",
   "name": "python",
   "nbconvert_exporter": "python",
   "pygments_lexer": "ipython2",
   "version": "2.7.10"
  }
 },
 "nbformat": 4,
 "nbformat_minor": 0
}
